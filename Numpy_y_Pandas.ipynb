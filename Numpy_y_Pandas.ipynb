{
  "nbformat": 4,
  "nbformat_minor": 0,
  "metadata": {
    "colab": {
      "provenance": [],
      "authorship_tag": "ABX9TyM4HeScsIT6fNujkpOTYAaC",
      "include_colab_link": true
    },
    "kernelspec": {
      "name": "python3",
      "display_name": "Python 3"
    },
    "language_info": {
      "name": "python"
    }
  },
  "cells": [
    {
      "cell_type": "markdown",
      "metadata": {
        "id": "view-in-github",
        "colab_type": "text"
      },
      "source": [
        "<a href=\"https://colab.research.google.com/github/jfaguirre/Python/blob/main/Numpy_y_Pandas.ipynb\" target=\"_parent\"><img src=\"https://colab.research.google.com/assets/colab-badge.svg\" alt=\"Open In Colab\"/></a>"
      ]
    },
    {
      "cell_type": "markdown",
      "source": [
        "Numpy con Ademass by Gogodev"
      ],
      "metadata": {
        "id": "Fo1NxcHIVtR0"
      }
    },
    {
      "cell_type": "markdown",
      "source": [
        "**¿Cual es la diferencia de Numpy y Pandas?**\n",
        "\n",
        "**NumPy (Numerical Python)**\n",
        "\n",
        "*   Diseñado para trabajar con grandes arreglos y matrices numéricas.\n",
        "*   Ofrece operaciones matemáticas y algebra lineal muy rápidas y eficientes.\n",
        "*   Se usa mucho en ciencia de datos, machine learning y simulaciones numéricas.\n",
        "*   Sus estructuras básicas son ndarray.\n",
        "\n",
        "Ejemplo típico de uso:\n",
        "\n",
        "import numpy as np\n",
        "a = np.array([1, 2, 3])\n",
        "b = np.array([4, 5, 6])\n",
        "print(np.dot(a, b))  # Producto escalar\n",
        "\n",
        "**Pandas**\n",
        "\n",
        "Construido sobre NumPy, pero diseñado para trabajar con datos tabulares y etiquetados, como si fueran hojas de Excel o bases de datos.\n",
        "\n",
        "\n",
        "*   DataFrame (tabla con filas y columnas)\n",
        "*   Tiene dos estructuras principales:\n",
        "    *   Series (columna única)\n",
        "    *   DataFrame (tabla con filas y columnas)\n",
        "*   Ideal para limpiar, filtrar, agrupar y analizar datos con etiquetas\n",
        "\n",
        "Ejemplo típico de uso:\n",
        "\n",
        "import pandas as pd\n",
        "\n",
        "df = pd.DataFrame({\n",
        "    'Nombre': ['Ana', 'Luis'],\n",
        "    'Edad': [25, 30]\n",
        "})\n",
        "print(df['Edad'].mean())  # Promedio de edad\n",
        "\n",
        "![image.png](data:image/png;base64,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)\n",
        "\n",
        "Curso de Gogodev en Ademass.com\n",
        "https://campus-ademass.com/curso/9"
      ],
      "metadata": {
        "id": "N7wcvhL-2OKb"
      }
    },
    {
      "cell_type": "code",
      "source": [
        "# Cargamos la libreria Numpy\n",
        "import numpy as np"
      ],
      "metadata": {
        "id": "HrbHuaTUirIx"
      },
      "execution_count": null,
      "outputs": []
    },
    {
      "cell_type": "code",
      "source": [
        "# Creamos un array vacio de 4x8\n",
        "np.empty((4,8))"
      ],
      "metadata": {
        "colab": {
          "base_uri": "https://localhost:8080/"
        },
        "id": "3uD5GRAaOkgV",
        "outputId": "36ad07ea-6a16-48ba-a554-483e4ef9ef51"
      },
      "execution_count": null,
      "outputs": [
        {
          "output_type": "execute_result",
          "data": {
            "text/plain": [
              "array([[1.  , 0.  , 0.16, 1.  , 1.  , 0.  , 0.  , 1.  ],\n",
              "       [1.  , 1.  , 0.  , 1.  , 0.  , 1.  , 0.  , 1.  ],\n",
              "       [0.  , 1.  , 1.  , 1.  , 0.  , 0.  , 1.  , 1.  ],\n",
              "       [1.  , 0.  , 1.  , 1.  , 1.  , 0.  , 0.75, 1.  ]])"
            ]
          },
          "metadata": {},
          "execution_count": 10
        }
      ]
    },
    {
      "cell_type": "code",
      "source": [
        "# Creamos un array que inicie con \"ceros\" de 4x8\n",
        "np.zeros((4,8))"
      ],
      "metadata": {
        "colab": {
          "base_uri": "https://localhost:8080/"
        },
        "id": "JWqliu13PGkE",
        "outputId": "da356447-da40-4994-edae-ca3bb566b570"
      },
      "execution_count": null,
      "outputs": [
        {
          "output_type": "execute_result",
          "data": {
            "text/plain": [
              "array([[0., 0., 0., 0., 0., 0., 0., 0.],\n",
              "       [0., 0., 0., 0., 0., 0., 0., 0.],\n",
              "       [0., 0., 0., 0., 0., 0., 0., 0.],\n",
              "       [0., 0., 0., 0., 0., 0., 0., 0.]])"
            ]
          },
          "metadata": {},
          "execution_count": 12
        }
      ]
    },
    {
      "cell_type": "code",
      "source": [
        "# creamos un array que inicia con \"unos\" de 4x8\n",
        "np.ones((4,8))"
      ],
      "metadata": {
        "colab": {
          "base_uri": "https://localhost:8080/"
        },
        "id": "Rk7qWWpgPPW0",
        "outputId": "7d10f086-327e-4cc7-e267-1a77fe0f4d42"
      },
      "execution_count": null,
      "outputs": [
        {
          "output_type": "execute_result",
          "data": {
            "text/plain": [
              "array([[1., 1., 1., 1., 1., 1., 1., 1.],\n",
              "       [1., 1., 1., 1., 1., 1., 1., 1.],\n",
              "       [1., 1., 1., 1., 1., 1., 1., 1.],\n",
              "       [1., 1., 1., 1., 1., 1., 1., 1.]])"
            ]
          },
          "metadata": {},
          "execution_count": 14
        }
      ]
    },
    {
      "cell_type": "code",
      "source": [
        "# Creamos un array con la funcion full() de 4x8 y le asignamos un valor personalizado\n",
        "np.full((4,8), 7)"
      ],
      "metadata": {
        "colab": {
          "base_uri": "https://localhost:8080/"
        },
        "id": "0JZzecExPTDc",
        "outputId": "5af95ac9-1e2d-498f-de84-586971a55aaf"
      },
      "execution_count": null,
      "outputs": [
        {
          "output_type": "execute_result",
          "data": {
            "text/plain": [
              "array([[7, 7, 7, 7, 7, 7, 7, 7],\n",
              "       [7, 7, 7, 7, 7, 7, 7, 7],\n",
              "       [7, 7, 7, 7, 7, 7, 7, 7],\n",
              "       [7, 7, 7, 7, 7, 7, 7, 7]])"
            ]
          },
          "metadata": {},
          "execution_count": 16
        }
      ]
    },
    {
      "cell_type": "code",
      "source": [
        "# CReamos valores aliatorios con la funcion random de 4x8\n",
        "np.random.random((4,8))"
      ],
      "metadata": {
        "colab": {
          "base_uri": "https://localhost:8080/"
        },
        "id": "XrhpRVhEPg28",
        "outputId": "470a7432-bd23-4670-9579-796d3a45223e"
      },
      "execution_count": null,
      "outputs": [
        {
          "output_type": "execute_result",
          "data": {
            "text/plain": [
              "array([[0.50623614, 0.89487064, 0.09951317, 0.89763477, 0.55279172,\n",
              "        0.97420756, 0.46414061, 0.96938818],\n",
              "       [0.52618561, 0.55944628, 0.68954776, 0.31727425, 0.5355571 ,\n",
              "        0.70734256, 0.68008637, 0.99916679],\n",
              "       [0.79002068, 0.9414734 , 0.99505856, 0.29762228, 0.8546369 ,\n",
              "        0.42069684, 0.42573599, 0.68992651],\n",
              "       [0.85153152, 0.07358121, 0.71330161, 0.03240111, 0.17465546,\n",
              "        0.37026088, 0.12214215, 0.04973236]])"
            ]
          },
          "metadata": {},
          "execution_count": 20
        }
      ]
    },
    {
      "cell_type": "code",
      "source": [
        "# Creamos un array de valores aleatorios enteros, con un valor minimo de 0 a 10 random hasta 32 valores en total\n",
        "np.random.randint(0, 10, 32)"
      ],
      "metadata": {
        "colab": {
          "base_uri": "https://localhost:8080/"
        },
        "id": "FTXz9EfjPqnU",
        "outputId": "adfbd825-f48c-4133-be40-2da64689d579"
      },
      "execution_count": null,
      "outputs": [
        {
          "output_type": "execute_result",
          "data": {
            "text/plain": [
              "array([0, 9, 7, 9, 6, 7, 2, 0, 8, 5, 2, 3, 6, 5, 4, 9, 6, 5, 1, 6, 1, 3,\n",
              "       7, 4, 5, 0, 7, 2, 7, 0, 2, 6])"
            ]
          },
          "metadata": {},
          "execution_count": 23
        }
      ]
    },
    {
      "cell_type": "code",
      "source": [
        "# Convertimos el array lineal a bidimencional con la funcion reshape()\n",
        "my_array = np.random.randint(0, 10, 32)\n",
        "my_array_reshaped_array = np.reshape(my_array,(4,8))\n",
        "print(my_array_reshaped_array)"
      ],
      "metadata": {
        "colab": {
          "base_uri": "https://localhost:8080/"
        },
        "id": "PeRvfVhMQB7c",
        "outputId": "718c1963-0b4f-4c5e-e433-6c79ac664ed5"
      },
      "execution_count": null,
      "outputs": [
        {
          "output_type": "stream",
          "name": "stdout",
          "text": [
            "[[7 4 3 0 1 0 7 0]\n",
            " [7 9 4 7 8 2 0 0]\n",
            " [2 5 3 3 0 4 8 5]\n",
            " [2 5 3 9 4 8 6 3]]\n"
          ]
        }
      ]
    },
    {
      "cell_type": "code",
      "source": [
        "# Creamos un array\n",
        "np.array([7,7,7,7])"
      ],
      "metadata": {
        "colab": {
          "base_uri": "https://localhost:8080/"
        },
        "id": "jv8A3vfOQnWc",
        "outputId": "453c2709-792b-42a2-e6f3-60fe9cd4dcd7"
      },
      "execution_count": null,
      "outputs": [
        {
          "output_type": "execute_result",
          "data": {
            "text/plain": [
              "array([7, 7, 7, 7])"
            ]
          },
          "metadata": {},
          "execution_count": 34
        }
      ]
    },
    {
      "cell_type": "code",
      "source": [
        "# Creamos una matriz\n",
        "np.array( [[1,2,3,4,5,6,7,8], [1,2,3,4,5,6,7,8], [1,2,3,4,5,6,7,8], [1,2,3,4,5,6,7,8] ])"
      ],
      "metadata": {
        "colab": {
          "base_uri": "https://localhost:8080/"
        },
        "id": "oF14BXPlQzbU",
        "outputId": "5bd8b1ff-9eef-4bec-ff8a-4f1ce11ce6e4"
      },
      "execution_count": null,
      "outputs": [
        {
          "output_type": "execute_result",
          "data": {
            "text/plain": [
              "array([[1, 2, 3, 4, 5, 6, 7, 8],\n",
              "       [1, 2, 3, 4, 5, 6, 7, 8],\n",
              "       [1, 2, 3, 4, 5, 6, 7, 8],\n",
              "       [1, 2, 3, 4, 5, 6, 7, 8]])"
            ]
          },
          "metadata": {},
          "execution_count": 39
        }
      ]
    },
    {
      "cell_type": "code",
      "source": [
        "# Creamos un array de 0 a 10 random de 32 valores\n",
        "my_array = np.linspace(0, 10, 32)\n",
        "# Determina el tamaño del array\n",
        "print(my_array.shape)\n",
        "my_array"
      ],
      "metadata": {
        "colab": {
          "base_uri": "https://localhost:8080/"
        },
        "id": "4HfQ_bqZRIpU",
        "outputId": "514169ab-afca-421a-98f2-8b0e7b6fc1f5"
      },
      "execution_count": null,
      "outputs": [
        {
          "output_type": "stream",
          "name": "stdout",
          "text": [
            "(32,)\n"
          ]
        },
        {
          "output_type": "execute_result",
          "data": {
            "text/plain": [
              "array([ 0.        ,  0.32258065,  0.64516129,  0.96774194,  1.29032258,\n",
              "        1.61290323,  1.93548387,  2.25806452,  2.58064516,  2.90322581,\n",
              "        3.22580645,  3.5483871 ,  3.87096774,  4.19354839,  4.51612903,\n",
              "        4.83870968,  5.16129032,  5.48387097,  5.80645161,  6.12903226,\n",
              "        6.4516129 ,  6.77419355,  7.09677419,  7.41935484,  7.74193548,\n",
              "        8.06451613,  8.38709677,  8.70967742,  9.03225806,  9.35483871,\n",
              "        9.67741935, 10.        ])"
            ]
          },
          "metadata": {},
          "execution_count": 162
        }
      ]
    },
    {
      "cell_type": "code",
      "source": [
        "# Nos muestra la dimension del array\n",
        "print(my_array.ndim)"
      ],
      "metadata": {
        "colab": {
          "base_uri": "https://localhost:8080/"
        },
        "id": "34bPDwI0Rbus",
        "outputId": "87d22a61-3384-4fe6-e42b-0b164b77ad75"
      },
      "execution_count": null,
      "outputs": [
        {
          "output_type": "stream",
          "name": "stdout",
          "text": [
            "1\n"
          ]
        }
      ]
    },
    {
      "cell_type": "code",
      "source": [
        "# Nos muestra el tamaño en valores del array\n",
        "print(my_array.size)"
      ],
      "metadata": {
        "colab": {
          "base_uri": "https://localhost:8080/"
        },
        "id": "fWN8U5ReR-y0",
        "outputId": "b5e44e6e-1ece-45dd-a6a4-3afd4690ca2b"
      },
      "execution_count": null,
      "outputs": [
        {
          "output_type": "stream",
          "name": "stdout",
          "text": [
            "32\n"
          ]
        }
      ]
    },
    {
      "cell_type": "code",
      "source": [
        "# Operaciones basicas con array\n",
        "my_array1 = np.array([7,7,7])\n",
        "my_array2 = np.array([3,3,3])\n",
        "\n",
        "print(my_array1 + my_array2)\n",
        "print(my_array1 - my_array2)\n",
        "print(my_array1 * my_array2)\n",
        "print(my_array1 / my_array2)"
      ],
      "metadata": {
        "colab": {
          "base_uri": "https://localhost:8080/"
        },
        "id": "XYfYFxwlSHWc",
        "outputId": "2636ac99-1840-452c-e0d2-7f88f0f00b06"
      },
      "execution_count": null,
      "outputs": [
        {
          "output_type": "stream",
          "name": "stdout",
          "text": [
            "[10 10 10]\n",
            "[4 4 4]\n",
            "[21 21 21]\n",
            "[2.33333333 2.33333333 2.33333333]\n"
          ]
        }
      ]
    },
    {
      "cell_type": "code",
      "source": [
        "# Multiplicamos una matriz con un array\n",
        "my_array1 = np.array([[7,7,7], [1,1,1]])\n",
        "my_array2 = np.array([3,3,3])\n",
        "\n",
        "print(my_array1 + my_array2)\n",
        "print(my_array1 - my_array2)\n",
        "print(my_array1 * my_array2)\n",
        "print(my_array1 / my_array2)"
      ],
      "metadata": {
        "colab": {
          "base_uri": "https://localhost:8080/"
        },
        "id": "vs8bhKzUSuAF",
        "outputId": "d2ff197e-4281-4582-b4da-81d073b8ec8b"
      },
      "execution_count": null,
      "outputs": [
        {
          "output_type": "stream",
          "name": "stdout",
          "text": [
            "[[10 10 10]\n",
            " [ 4  4  4]]\n",
            "[[ 4  4  4]\n",
            " [-2 -2 -2]]\n",
            "[[21 21 21]\n",
            " [ 3  3  3]]\n",
            "[[2.33333333 2.33333333 2.33333333]\n",
            " [0.33333333 0.33333333 0.33333333]]\n"
          ]
        }
      ]
    },
    {
      "cell_type": "code",
      "source": [
        "# Calcular la media\n",
        "my_array3 = np.array([7,13,7])\n",
        "my_array3.mean()"
      ],
      "metadata": {
        "colab": {
          "base_uri": "https://localhost:8080/"
        },
        "id": "2cCJD-_FTiiF",
        "outputId": "dd2bcb5d-7a33-49cf-8854-16e745ef4343"
      },
      "execution_count": null,
      "outputs": [
        {
          "output_type": "execute_result",
          "data": {
            "text/plain": [
              "np.float64(9.0)"
            ]
          },
          "metadata": {},
          "execution_count": 178
        }
      ]
    },
    {
      "cell_type": "code",
      "source": [
        "# Suma de los valores del array\n",
        "my_array3.sum()"
      ],
      "metadata": {
        "colab": {
          "base_uri": "https://localhost:8080/"
        },
        "id": "jpqcmncsTrSN",
        "outputId": "dd6d5208-6f04-4fed-bb9e-783a4e58925d"
      },
      "execution_count": null,
      "outputs": [
        {
          "output_type": "execute_result",
          "data": {
            "text/plain": [
              "np.int64(27)"
            ]
          },
          "metadata": {},
          "execution_count": 179
        }
      ]
    },
    {
      "cell_type": "code",
      "source": [
        "# Accedemos al indice 1 que es igual a 13\n",
        "my_array3 = np.array([7,13,7])\n",
        "my_array3[1]"
      ],
      "metadata": {
        "colab": {
          "base_uri": "https://localhost:8080/"
        },
        "id": "5E0Q1SVyTxA9",
        "outputId": "8a869fc8-a5fb-45b0-e036-2f008d6487d7"
      },
      "execution_count": null,
      "outputs": [
        {
          "output_type": "execute_result",
          "data": {
            "text/plain": [
              "np.int64(13)"
            ]
          },
          "metadata": {},
          "execution_count": 62
        }
      ]
    },
    {
      "cell_type": "code",
      "source": [
        "my_array3 = np.array([[7,13,7], [2,2,2]])\n",
        "my_array3"
      ],
      "metadata": {
        "colab": {
          "base_uri": "https://localhost:8080/"
        },
        "id": "_5F195YdT6rN",
        "outputId": "04378462-31c7-4b1c-cf86-9118df3df3ef"
      },
      "execution_count": null,
      "outputs": [
        {
          "output_type": "execute_result",
          "data": {
            "text/plain": [
              "array([[ 7, 13,  7],\n",
              "       [ 2,  2,  2]])"
            ]
          },
          "metadata": {},
          "execution_count": 66
        }
      ]
    },
    {
      "cell_type": "code",
      "source": [
        "# Accedemos al indice 1,2 que es igual a 2\n",
        "my_array3[1,2]"
      ],
      "metadata": {
        "colab": {
          "base_uri": "https://localhost:8080/"
        },
        "id": "nYaNQnCnUCL1",
        "outputId": "0cf59064-41ab-4054-8ff8-267bf20286c6"
      },
      "execution_count": null,
      "outputs": [
        {
          "output_type": "execute_result",
          "data": {
            "text/plain": [
              "np.int64(2)"
            ]
          },
          "metadata": {},
          "execution_count": 68
        }
      ]
    },
    {
      "cell_type": "code",
      "source": [
        "# Accedemos a los indices desde 0 a 2 que son 10,7,7 de la primer fila\n",
        "print(my_array1)\n",
        "my_array1[:1]"
      ],
      "metadata": {
        "colab": {
          "base_uri": "https://localhost:8080/"
        },
        "id": "sd4QexCWUJVl",
        "outputId": "e9676c72-5087-45a5-f2ab-88583df8f4b9"
      },
      "execution_count": null,
      "outputs": [
        {
          "output_type": "stream",
          "name": "stdout",
          "text": [
            "[[10  7  7]\n",
            " [ 1  1  1]]\n"
          ]
        },
        {
          "output_type": "execute_result",
          "data": {
            "text/plain": [
              "array([[10,  7,  7]])"
            ]
          },
          "metadata": {},
          "execution_count": 172
        }
      ]
    },
    {
      "cell_type": "code",
      "source": [
        "# Accedemos a los indices de 0 a 2 que son 1,1,1 de la ultima fila\n",
        "print(my_array1)\n",
        "my_array1[1:]"
      ],
      "metadata": {
        "colab": {
          "base_uri": "https://localhost:8080/"
        },
        "id": "0qe758BPUbiN",
        "outputId": "9696c32d-38f2-4db8-d99d-fbe5d8fee31e"
      },
      "execution_count": null,
      "outputs": [
        {
          "output_type": "stream",
          "name": "stdout",
          "text": [
            "[[10  7  7]\n",
            " [ 1  1  1]]\n"
          ]
        },
        {
          "output_type": "execute_result",
          "data": {
            "text/plain": [
              "array([[1, 1, 1]])"
            ]
          },
          "metadata": {},
          "execution_count": 173
        }
      ]
    },
    {
      "cell_type": "code",
      "source": [
        "# Accedemos al indice 0,0 = 10\n",
        "my_array1[0,0] = 10\n",
        "my_array1"
      ],
      "metadata": {
        "colab": {
          "base_uri": "https://localhost:8080/"
        },
        "id": "f5wq1A6jUlcV",
        "outputId": "7efe2927-874e-45fe-f2a4-122d13a30408"
      },
      "execution_count": null,
      "outputs": [
        {
          "output_type": "execute_result",
          "data": {
            "text/plain": [
              "array([[10,  7,  7],\n",
              "       [ 1,  1,  1]])"
            ]
          },
          "metadata": {},
          "execution_count": 76
        }
      ]
    },
    {
      "cell_type": "code",
      "source": [
        "my_array3 = np.array([[7,13,7], [2,2,2]])\n",
        "my_array3"
      ],
      "metadata": {
        "colab": {
          "base_uri": "https://localhost:8080/"
        },
        "id": "hgY72FgJUr71",
        "outputId": "a93dedc6-07d5-493e-b53d-64f40dfc52f8"
      },
      "execution_count": null,
      "outputs": [
        {
          "output_type": "execute_result",
          "data": {
            "text/plain": [
              "array([[ 7, 13,  7],\n",
              "       [ 2,  2,  2]])"
            ]
          },
          "metadata": {},
          "execution_count": 78
        }
      ]
    },
    {
      "cell_type": "code",
      "source": [
        "# Pasamos de array de dos dimenciones a una\n",
        "my_array3.ravel()"
      ],
      "metadata": {
        "colab": {
          "base_uri": "https://localhost:8080/"
        },
        "id": "5mWPDaQBU34V",
        "outputId": "58b0f110-7524-462a-992a-756291f46060"
      },
      "execution_count": null,
      "outputs": [
        {
          "output_type": "execute_result",
          "data": {
            "text/plain": [
              "array([ 7, 13,  7,  2,  2,  2])"
            ]
          },
          "metadata": {},
          "execution_count": 80
        }
      ]
    },
    {
      "cell_type": "code",
      "source": [
        "# Creamos un array de una dimension\n",
        "my_Array = np.array([1,2,3,4,5,6,7,8,9,10])\n",
        "my_Array"
      ],
      "metadata": {
        "colab": {
          "base_uri": "https://localhost:8080/"
        },
        "id": "3QuTDVP8h6Dr",
        "outputId": "9fbff1d7-898e-4873-88b5-91a84c66f838"
      },
      "execution_count": null,
      "outputs": [
        {
          "output_type": "execute_result",
          "data": {
            "text/plain": [
              "array([ 1,  2,  3,  4,  5,  6,  7,  8,  9, 10])"
            ]
          },
          "metadata": {},
          "execution_count": 83
        }
      ]
    },
    {
      "cell_type": "code",
      "source": [
        "# Accedemos a indice 8\n",
        "my_Array[7]"
      ],
      "metadata": {
        "colab": {
          "base_uri": "https://localhost:8080/"
        },
        "id": "Ne7kxvb-iKXy",
        "outputId": "939cf814-669a-4a4e-a261-f8ff88545c7e"
      },
      "execution_count": null,
      "outputs": [
        {
          "output_type": "execute_result",
          "data": {
            "text/plain": [
              "np.int64(8)"
            ]
          },
          "metadata": {},
          "execution_count": 85
        }
      ]
    },
    {
      "cell_type": "code",
      "source": [
        "# Sumamos el total de valores del array\n",
        "total = my_array.sum()\n",
        "total"
      ],
      "metadata": {
        "colab": {
          "base_uri": "https://localhost:8080/"
        },
        "id": "5TBBJ2N8iRBS",
        "outputId": "69b91dd5-e226-4bed-e6a6-52307a1ec05b"
      },
      "execution_count": null,
      "outputs": [
        {
          "output_type": "execute_result",
          "data": {
            "text/plain": [
              "np.float64(160.0)"
            ]
          },
          "metadata": {},
          "execution_count": 88
        }
      ]
    },
    {
      "cell_type": "code",
      "source": [
        "# Sacamos la media del array\n",
        "media = my_array.mean()\n",
        "media"
      ],
      "metadata": {
        "colab": {
          "base_uri": "https://localhost:8080/"
        },
        "id": "g1bWY9jFihIC",
        "outputId": "f9fb2390-218c-4cab-db95-a28813303847"
      },
      "execution_count": null,
      "outputs": [
        {
          "output_type": "execute_result",
          "data": {
            "text/plain": [
              "np.float64(5.0)"
            ]
          },
          "metadata": {},
          "execution_count": 90
        }
      ]
    },
    {
      "cell_type": "code",
      "source": [
        "# Sacamos el maximo valore del array\n",
        "maximo = my_array.max()\n",
        "maximo"
      ],
      "metadata": {
        "colab": {
          "base_uri": "https://localhost:8080/"
        },
        "id": "_hdSQ_jWioZy",
        "outputId": "58c9979d-082f-4673-b66a-4a26a67977ef"
      },
      "execution_count": null,
      "outputs": [
        {
          "output_type": "execute_result",
          "data": {
            "text/plain": [
              "np.float64(10.0)"
            ]
          },
          "metadata": {},
          "execution_count": 93
        }
      ]
    },
    {
      "cell_type": "code",
      "source": [
        "# Sacamos el minimo del arrya\n",
        "minimo = my_array.min()\n",
        "minimo"
      ],
      "metadata": {
        "colab": {
          "base_uri": "https://localhost:8080/"
        },
        "id": "KJgnYv8Niuxq",
        "outputId": "f023afb6-9663-4ebd-f668-4b6605b9d6a9"
      },
      "execution_count": null,
      "outputs": [
        {
          "output_type": "execute_result",
          "data": {
            "text/plain": [
              "np.float64(0.0)"
            ]
          },
          "metadata": {},
          "execution_count": 98
        }
      ]
    },
    {
      "cell_type": "code",
      "source": [
        "# Sumar dos array\n",
        "array_1 = np.array([5,2,4])\n",
        "array_2 = np.array([3,8,4])\n",
        "\n",
        "# Sumanos\n",
        "\n",
        "suma = array_1 + array_2\n",
        "suma"
      ],
      "metadata": {
        "colab": {
          "base_uri": "https://localhost:8080/"
        },
        "id": "oWt9cXKakOiL",
        "outputId": "4e8cf770-e312-4df7-e88d-69720da70485"
      },
      "execution_count": null,
      "outputs": [
        {
          "output_type": "execute_result",
          "data": {
            "text/plain": [
              "array([ 8, 10,  8])"
            ]
          },
          "metadata": {},
          "execution_count": 110
        }
      ]
    },
    {
      "cell_type": "code",
      "source": [
        "# Sumarle el valor de 1 a los elementos de un array\n",
        "\n",
        "for i in range(len(array_1)):\n",
        "    suma[i] += 1\n",
        "suma"
      ],
      "metadata": {
        "colab": {
          "base_uri": "https://localhost:8080/"
        },
        "id": "I5IRdtPeklab",
        "outputId": "f4944fbd-959b-4290-fe69-316452963c1c"
      },
      "execution_count": null,
      "outputs": [
        {
          "output_type": "execute_result",
          "data": {
            "text/plain": [
              "array([10, 12, 10])"
            ]
          },
          "metadata": {},
          "execution_count": 112
        }
      ]
    },
    {
      "cell_type": "code",
      "source": [
        "# Multiplicacion de matriz\n",
        "array_3 = np.array([[2,4,5], [3,4,5]])\n",
        "array_4 = np.array([[2,2,4], [3,1,5]])\n",
        "\n",
        "producto = array_3 * array_4\n",
        "producto"
      ],
      "metadata": {
        "colab": {
          "base_uri": "https://localhost:8080/"
        },
        "id": "QxvTSpD2liAr",
        "outputId": "8058667f-5a54-4364-987b-7582005c045b"
      },
      "execution_count": null,
      "outputs": [
        {
          "output_type": "execute_result",
          "data": {
            "text/plain": [
              "array([[ 4,  8, 20],\n",
              "       [ 9,  4, 25]])"
            ]
          },
          "metadata": {},
          "execution_count": 115
        }
      ]
    },
    {
      "cell_type": "code",
      "source": [
        "# Valores random\n",
        "\n",
        "random_array = np.random.random((4,4))\n",
        "random_array"
      ],
      "metadata": {
        "colab": {
          "base_uri": "https://localhost:8080/"
        },
        "id": "VF4-59SRmXTL",
        "outputId": "119292d6-99b2-4b5a-de87-3c60f9526a80"
      },
      "execution_count": null,
      "outputs": [
        {
          "output_type": "execute_result",
          "data": {
            "text/plain": [
              "array([[0.53455339, 0.6354369 , 0.56235309, 0.62667178],\n",
              "       [0.41417314, 0.21526889, 0.07889826, 0.18498811],\n",
              "       [0.80767502, 0.28676297, 0.33248542, 0.99513785],\n",
              "       [0.93274486, 0.86304649, 0.98548903, 0.86207268]])"
            ]
          },
          "metadata": {},
          "execution_count": 118
        }
      ]
    },
    {
      "cell_type": "code",
      "source": [
        "random_array.shape"
      ],
      "metadata": {
        "colab": {
          "base_uri": "https://localhost:8080/"
        },
        "id": "GFH5qJ8dm3Fu",
        "outputId": "5cb8f512-c014-4429-ca4b-8b050223f901"
      },
      "execution_count": null,
      "outputs": [
        {
          "output_type": "execute_result",
          "data": {
            "text/plain": [
              "(4, 4)"
            ]
          },
          "metadata": {},
          "execution_count": 120
        }
      ]
    },
    {
      "cell_type": "code",
      "source": [
        "# Creamos valores random de 0 a 10 para 10 valores\n",
        "random_array= np.random.randint(0, 10, 10)\n",
        "random_array"
      ],
      "metadata": {
        "colab": {
          "base_uri": "https://localhost:8080/"
        },
        "id": "rbpV-Ahcm5vT",
        "outputId": "fe251ff8-ade3-41b5-ae0e-710b702e36f2"
      },
      "execution_count": null,
      "outputs": [
        {
          "output_type": "execute_result",
          "data": {
            "text/plain": [
              "array([1, 6, 0, 7, 9, 4, 9, 9, 0, 7])"
            ]
          },
          "metadata": {},
          "execution_count": 125
        }
      ]
    },
    {
      "cell_type": "code",
      "source": [
        "# Modificar la dimencion\n",
        "\n",
        "matrix = np.reshape(random_array, (2,5))\n",
        "matrix\n",
        "\n",
        "# Para este caso le estamos indicando que cree 5 columnas y 2 filas"
      ],
      "metadata": {
        "colab": {
          "base_uri": "https://localhost:8080/"
        },
        "id": "4ETM2WnVnP0D",
        "outputId": "c8905d50-38b0-4d2f-b47b-ee9c8e0b3253"
      },
      "execution_count": null,
      "outputs": [
        {
          "output_type": "execute_result",
          "data": {
            "text/plain": [
              "array([[1, 6, 0, 7, 9],\n",
              "       [4, 9, 9, 0, 7]])"
            ]
          },
          "metadata": {},
          "execution_count": 174
        }
      ]
    },
    {
      "cell_type": "code",
      "source": [
        "# Modificar la dimencion\n",
        "\n",
        "matrix = np.reshape(random_array, (5,2))\n",
        "matrix\n",
        "\n",
        "# Para este caso le estamos indicando que cree 2 columnas y 5 filas"
      ],
      "metadata": {
        "colab": {
          "base_uri": "https://localhost:8080/"
        },
        "id": "o2OzsiOk0phq",
        "outputId": "296ef7b1-6ab9-49cb-b3be-875e3022166b"
      },
      "execution_count": null,
      "outputs": [
        {
          "output_type": "execute_result",
          "data": {
            "text/plain": [
              "array([[1, 6],\n",
              "       [0, 7],\n",
              "       [9, 4],\n",
              "       [9, 9],\n",
              "       [0, 7]])"
            ]
          },
          "metadata": {},
          "execution_count": 175
        }
      ]
    },
    {
      "cell_type": "code",
      "source": [
        "# Acceder al array de dos dimenciones, ejemplo valor de 9\n",
        "indice_value = matrix[2,0]\n",
        "indice_value"
      ],
      "metadata": {
        "colab": {
          "base_uri": "https://localhost:8080/"
        },
        "id": "n7NJjPCIov1M",
        "outputId": "66c21e3e-cb08-415f-ecc1-36fb5e7bf6c6"
      },
      "execution_count": null,
      "outputs": [
        {
          "output_type": "execute_result",
          "data": {
            "text/plain": [
              "np.int64(9)"
            ]
          },
          "metadata": {},
          "execution_count": 141
        }
      ]
    },
    {
      "cell_type": "code",
      "source": [
        "# Agregar etiquetas al array bidimencional\n",
        "chocolate = np.array([\n",
        "    [1],  # chocolate\n",
        "    [4]   # azucar\n",
        "])\n",
        "\n",
        "produccion = np.array([10])\n",
        "\n",
        "print(chocolate, produccion)\n",
        "\n",
        "# Calculamos cuanta produccion se necesita para 10 libras de chocolate\n",
        "\n",
        "produccion_total = np.dot(chocolate, produccion)\n",
        "produccion_total"
      ],
      "metadata": {
        "colab": {
          "base_uri": "https://localhost:8080/"
        },
        "id": "G0KyiVbMpO6E",
        "outputId": "d2b703f9-5d8d-4da0-dce0-23fe4c2cb35e"
      },
      "execution_count": null,
      "outputs": [
        {
          "output_type": "stream",
          "name": "stdout",
          "text": [
            "[[1]\n",
            " [4]] [10]\n"
          ]
        },
        {
          "output_type": "execute_result",
          "data": {
            "text/plain": [
              "array([10, 40])"
            ]
          },
          "metadata": {},
          "execution_count": 159
        }
      ]
    },
    {
      "cell_type": "code",
      "source": [
        "# Combinando pandas con numpy (Ya que estamos trabajando con etiquetas, es decir una tabla, ahora necesitamos de la ayuda de pandas)\n",
        "# Ejercicio: crear un modelo que determine la produccion de chocolate segun las cantidades de materia prima, calcular en libras.\n",
        "import pandas as pd\n",
        "import numpy as np\n",
        "\n",
        "# Creamos un DataFrame con datos tabulados\n",
        "# Para este caso, para cada libra de chocolate se necesitan 4 libras de azucar\n",
        "df = pd.DataFrame({\n",
        "    'producto': ['chocolate', 'azucar'],\n",
        "    'cantidad': [1, 4]\n",
        "})\n",
        "\n",
        "# Supón que quieres aumentar la cantidad a 10 libras, usando NumPy\n",
        "df['nueva_cantidad'] = np.array(df['cantidad']) * 10\n",
        "\n",
        "print(df)"
      ],
      "metadata": {
        "colab": {
          "base_uri": "https://localhost:8080/"
        },
        "id": "pEy97ItJuwO2",
        "outputId": "a71097b3-161a-4507-b3bf-780d9637a23d"
      },
      "execution_count": null,
      "outputs": [
        {
          "output_type": "stream",
          "name": "stdout",
          "text": [
            "    producto  cantidad  nueva_cantidad\n",
            "0  chocolate         1              10\n",
            "1     azucar         4              40\n"
          ]
        }
      ]
    }
  ]
}